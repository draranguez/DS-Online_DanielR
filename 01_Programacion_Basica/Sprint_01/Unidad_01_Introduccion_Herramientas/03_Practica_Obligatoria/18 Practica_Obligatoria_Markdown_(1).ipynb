{
 "cells": [
  {
   "cell_type": "markdown",
   "id": "446531dc-ac8d-48e3-8b93-ee9ba1371c2d",
   "metadata": {},
   "source": [
    "# Aptitudes en Data Science  \n",
    "\n",
    "> **Lo más importante**  \n",
    ">\n",
    ">* Matemáticas  \n",
    ">* Python  \n",
    ">* SQL\n",
    ">\n",
    ">![logo](./img/python.png) \n",
    ">\n",
    ">Otro tema muy importante es la ***Estadística***\n",
    ">\n",
    ">Si tienes dudas, puedes escribirnos a: ta_ds_online@thebridgeschool.es\n",
    "\n",
    "Y en esta web se aprende mucho sobre *Machine Learning:* [**Kaggle**](https://www.kaggle.com/)\n",
    "\n"
   ]
  },
  {
   "cell_type": "code",
   "execution_count": 1,
   "id": "20270f9c",
   "metadata": {},
   "outputs": [
    {
     "data": {
      "text/plain": [
       "'c:\\\\Users\\\\USUARIO\\\\Curso_The_Bridge\\\\Bootcamp\\\\DS-Online_DanielR\\\\01_Programacion_Basica\\\\Sprint_01\\\\Unidad_01_Introduccion_Herramientas\\\\03_Practica_Obligatoria'"
      ]
     },
     "execution_count": 1,
     "metadata": {},
     "output_type": "execute_result"
    }
   ],
   "source": [
    "%pwd"
   ]
  },
  {
   "cell_type": "markdown",
   "id": "21f83e38-3106-401c-b0a3-2d9ae84de8c6",
   "metadata": {},
   "source": [
    "<div align=\"center\">\n",
    "\n",
    " **Fundamentals** | **Data Analysis** | **Machine Learning** | **Data&Business** \n",
    " :---             |          :---:    |    :---:             |   :---      \n",
    "Jupyter           |    SQL            |  Supervisado         |     API             \n",
    "GitHub            |  Estadística      | NO Supervisado       |    Despliegue        \n",
    "Python            |   EDA             |  Deep Learning       |   Cloud Computing    \n",
    "\n",
    "Latex diccionario\n",
    "\n",
    "$\\sqrt{3x-1} + (1+x)^2$ \n",
    "\n",
    "</div>"
   ]
  }
 ],
 "metadata": {
  "kernelspec": {
   "display_name": "Python 3",
   "language": "python",
   "name": "python3"
  },
  "language_info": {
   "codemirror_mode": {
    "name": "ipython",
    "version": 3
   },
   "file_extension": ".py",
   "mimetype": "text/x-python",
   "name": "python",
   "nbconvert_exporter": "python",
   "pygments_lexer": "ipython3",
   "version": "3.12.10"
  }
 },
 "nbformat": 4,
 "nbformat_minor": 5
}
